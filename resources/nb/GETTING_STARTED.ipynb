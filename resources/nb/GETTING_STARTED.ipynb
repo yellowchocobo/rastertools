{
 "cells": [
  {
   "cell_type": "markdown",
   "id": "693ba603-1ca5-4373-b40e-9288fd4f3be2",
   "metadata": {},
   "source": [
    "## Getting Started with rastertools\n",
    "This document provides an introduction of rastertools. A jupyter-notebook file with the same code is also provided here (can be run, in contrary to this file). \n",
    "\n",
    "## Functionalities\n",
    "\n",
    "+ functions to manipulate rasters, e.g., read, save, clip and tile rasters (`./raster.py`) \n",
    "+ extract metadata from raster (`./metadata.py`) \n",
    "+ practical tools for converting between grayscale and rgb(a) or coordinates related conversion (`./convert.py`) \n",
    "+ Include basic coordinate systems for the Moon and Mars (`./crs.py`) \n",
    "\n",
    "## Import of modules"
   ]
  },
  {
   "cell_type": "code",
   "execution_count": 4,
   "id": "8dd86ad2-dbaf-4570-8546-874c3b4f8be2",
   "metadata": {},
   "outputs": [],
   "source": [
    "import sys\n",
    "sys.path.append(\"/home/nilscp/GIT/\")\n",
    "\n",
    "import geopandas as gpd\n",
    "import numpy as np\n",
    "import rasterio as rio\n",
    "\n",
    "from pathlib import Path\n",
    "from affine import Affine\n",
    "\n",
    "import rastertools.raster as raster\n",
    "import rastertools.metadata as raster_metadata\n",
    "import rastertools.crs as raster_crs\n",
    "import rastertools.convert as raster_convert"
   ]
  },
  {
   "cell_type": "markdown",
   "id": "49612ba3-7dbc-428f-b01e-f4e185a372ee",
   "metadata": {},
   "source": [
    "## Getting Prepared \n",
    "\n",
    "*(working directory, download of original raster)*\n",
    "\n",
    "Let's assume that you work on a Linux or UNIX machine. If this is not the case, I would advice you to install [Git for Windows](https://gitforwindows.org/) on your Windows computer. \n",
    "\n",
    "Let's save all of the future beautiful outputs of this tutorial in the temporary directory of your home folder. "
   ]
  },
  {
   "cell_type": "code",
   "execution_count": 5,
   "id": "a47c284e-b8d2-4dd3-a787-8b34cea5a80e",
   "metadata": {},
   "outputs": [],
   "source": [
    "home_p = Path.home()\n",
    "work_dir= home_p / \"tmp\" / \"rastertools\"\n",
    "raster_dir = (work_dir / \"resources\" / \"raster\")\n",
    "shp_dir = (work_dir / \"resources\" / \"shp\")\n",
    "\n",
    "# Let's define the working directories\n",
    "work_dir.mkdir(parents=True, exist_ok=True)\n",
    "raster_dir.mkdir(parents=True, exist_ok=True) \n",
    "shp_dir.mkdir(parents=True, exist_ok=True) "
   ]
  },
  {
   "cell_type": "markdown",
   "id": "71f8d73a-8f7b-4e6d-9cc0-d66aff4ae239",
   "metadata": {},
   "source": [
    "And we can download the original raster and two shapefiles that we will use for this tutorial from my GoogleDrive. I am using the `gdown` library to download the GDrive files. Let's install it quickly within Python. "
   ]
  },
  {
   "cell_type": "code",
   "execution_count": 6,
   "id": "90cc6641-9f1e-4854-bacf-0482e0f77b81",
   "metadata": {},
   "outputs": [
    {
     "name": "stdout",
     "output_type": "stream",
     "text": [
      "Requirement already satisfied: gdown in /home/nilscp/.pyenv/versions/3.8.0/envs/pytorch-training/lib/python3.8/site-packages (4.7.1)\n",
      "Requirement already satisfied: filelock in /home/nilscp/.pyenv/versions/3.8.0/envs/pytorch-training/lib/python3.8/site-packages (from gdown) (3.12.2)\n",
      "Requirement already satisfied: requests[socks] in /home/nilscp/.pyenv/versions/3.8.0/envs/pytorch-training/lib/python3.8/site-packages (from gdown) (2.26.0)\n",
      "Requirement already satisfied: beautifulsoup4 in /home/nilscp/.pyenv/versions/3.8.0/envs/pytorch-training/lib/python3.8/site-packages (from gdown) (4.12.2)\n",
      "Requirement already satisfied: tqdm in /home/nilscp/.pyenv/versions/3.8.0/envs/pytorch-training/lib/python3.8/site-packages (from gdown) (4.62.0)\n",
      "Requirement already satisfied: six in /home/nilscp/.pyenv/versions/3.8.0/envs/pytorch-training/lib/python3.8/site-packages (from gdown) (1.15.0)\n",
      "Requirement already satisfied: soupsieve>1.2 in /home/nilscp/.pyenv/versions/3.8.0/envs/pytorch-training/lib/python3.8/site-packages (from beautifulsoup4->gdown) (2.4.1)\n",
      "Requirement already satisfied: urllib3<1.27,>=1.21.1 in /home/nilscp/.pyenv/versions/3.8.0/envs/pytorch-training/lib/python3.8/site-packages (from requests[socks]->gdown) (1.26.6)\n",
      "Requirement already satisfied: charset-normalizer~=2.0.0 in /home/nilscp/.pyenv/versions/3.8.0/envs/pytorch-training/lib/python3.8/site-packages (from requests[socks]->gdown) (2.0.4)\n",
      "Requirement already satisfied: certifi>=2017.4.17 in /home/nilscp/.pyenv/versions/3.8.0/envs/pytorch-training/lib/python3.8/site-packages (from requests[socks]->gdown) (2021.5.30)\n",
      "Requirement already satisfied: idna<4,>=2.5 in /home/nilscp/.pyenv/versions/3.8.0/envs/pytorch-training/lib/python3.8/site-packages (from requests[socks]->gdown) (3.2)\n",
      "Requirement already satisfied: PySocks!=1.5.7,>=1.5.6 in /home/nilscp/.pyenv/versions/3.8.0/envs/pytorch-training/lib/python3.8/site-packages (from requests[socks]->gdown) (1.7.1)\n",
      "\n",
      "\u001b[1m[\u001b[0m\u001b[34;49mnotice\u001b[0m\u001b[1;39;49m]\u001b[0m\u001b[39;49m A new release of pip is available: \u001b[0m\u001b[31;49m23.0.1\u001b[0m\u001b[39;49m -> \u001b[0m\u001b[32;49m23.1.2\u001b[0m\n",
      "\u001b[1m[\u001b[0m\u001b[34;49mnotice\u001b[0m\u001b[1;39;49m]\u001b[0m\u001b[39;49m To update, run: \u001b[0m\u001b[32;49mpython3.8 -m pip install --upgrade pip\u001b[0m\n"
     ]
    }
   ],
   "source": [
    "!pip install gdown\n",
    "import gdown"
   ]
  },
  {
   "cell_type": "markdown",
   "id": "a3f37971-4430-4b1e-963c-f642f5760aee",
   "metadata": {},
   "source": [
    "We can now download the raster and shapefiles."
   ]
  },
  {
   "cell_type": "code",
   "execution_count": 8,
   "id": "1bb4de65-29ea-47b3-9053-752d4c3968d7",
   "metadata": {},
   "outputs": [
    {
     "name": "stdout",
     "output_type": "stream",
     "text": [
      "Archive:  /home/nilscp/tmp/rastertools/resources/shp/shapefiles.zip\n",
      "  inflating: /home/nilscp/tmp/rastertools/resources/shp/crater_ROI.cpg  \n",
      "  inflating: /home/nilscp/tmp/rastertools/resources/shp/crater_ROI.dbf  \n",
      "  inflating: /home/nilscp/tmp/rastertools/resources/shp/crater_ROI.prj  \n",
      "  inflating: /home/nilscp/tmp/rastertools/resources/shp/crater_ROI.shp  \n",
      "  inflating: /home/nilscp/tmp/rastertools/resources/shp/crater_ROI.shx  \n",
      "  inflating: /home/nilscp/tmp/rastertools/resources/shp/rectangular_ROI.cpg  \n",
      "  inflating: /home/nilscp/tmp/rastertools/resources/shp/rectangular_ROI.dbf  \n",
      "  inflating: /home/nilscp/tmp/rastertools/resources/shp/rectangular_ROI.prj  \n",
      "  inflating: /home/nilscp/tmp/rastertools/resources/shp/rectangular_ROI.shp  \n",
      "  inflating: /home/nilscp/tmp/rastertools/resources/shp/rectangular_ROI.shx  \n"
     ]
    }
   ],
   "source": [
    "url_raster = \"https://drive.google.com/uc?id=115Ww5kouD7BO1qDzfdp1MGRuqqVCEoZc\"\n",
    "url_shapefiles= \"https://drive.google.com/uc?id=1ln9FXZNEniuJ2y1KLkH8sn9LlVAUTH3M\"\n",
    "gdown.download(url_raster, (raster_dir / \"M1221383405.tif\").as_posix(), quiet=True)\n",
    "gdown.download(url_shapefiles, (shp_dir / \"shapefiles.zip\").as_posix(), quiet=True)\n",
    "# only work for Linux or UNIX machine (for Windows user, you can unzip the folder manually)\n",
    "!unzip ~/tmp/rastertools/resources/shp/shapefiles.zip -d ~/tmp/rastertools/resources/shp/ "
   ]
  },
  {
   "cell_type": "markdown",
   "id": "d2795cf3-62f3-471f-9cef-08004a5ae337",
   "metadata": {},
   "source": [
    "Ok, we should be all set now! \n",
    "\n",
    "The raster is an image of the surface of the Moon (`M1221383405`), and is actually a mosaic of two Lunar Reconnaissance Orbiter (LRO) Narrow Angle Camera (NAC) images: `M1221383405LE` (https://wms.lroc.asu.edu/lroc/view_lroc/LRO-L-LROC-2-EDR-V1.0/M1221383405LE) and `M1221383405RE` (https://wms.lroc.asu.edu/lroc/view_lroc/LRO-L-LROC-2-EDR-V1.0/M1221383405RE). \n",
    "\n",
    "`rectangular_grid` is a polygon shapefile, which is a rectangular polygon roughly centered on the fresh impact crater in the middle of the NAC image. \n",
    "\n",
    "`crater_ROI` is a polygon shapefile, which is a circle centered on the fresh impact crater in the middle of the NAC image. \n",
    "\n",
    "### Reading a raster"
   ]
  },
  {
   "cell_type": "code",
   "execution_count": 11,
   "id": "b513c3c1-95fc-4cdf-8c3d-9017a301b065",
   "metadata": {},
   "outputs": [],
   "source": [
    "r = raster_dir / \"M1221383405.tif\""
   ]
  },
  {
   "cell_type": "markdown",
   "id": "357a965b-4a17-4437-bc50-1d5abfa85ab9",
   "metadata": {},
   "source": [
    "In order to read a raster, you can use the `read_raster` function:"
   ]
  },
  {
   "cell_type": "code",
   "execution_count": 13,
   "id": "2196316f-ef79-451d-870c-4b19fc5b211c",
   "metadata": {},
   "outputs": [],
   "source": [
    "array = raster.read(r) # to read the whole raster with all bands"
   ]
  },
  {
   "cell_type": "markdown",
   "id": "9cd8b593-e1da-4d3e-90b8-0af509eb6df0",
   "metadata": {},
   "source": [
    "<center><img src=\"../images/image-20230613160540583.png\"/></center>\n",
    "\n",
    "*Figure 1. NAC image M1221383405 (displayed in QGIS)*\n",
    "\n",
    "But you can include options if needed, such as selecting only the `bands` you are interested in:"
   ]
  },
  {
   "cell_type": "code",
   "execution_count": 16,
   "id": "d7a47139-f9a7-4253-86aa-4ba36c012359",
   "metadata": {},
   "outputs": [],
   "source": [
    "array = raster.read(r, bands=[1]) # bands starting from 1, in our case, the example raster has only one band..."
   ]
  },
  {
   "cell_type": "markdown",
   "id": "5c8c2ada-e3c3-4f79-8049-3a634e4bd734",
   "metadata": {},
   "source": [
    "You can also choose with the `as_image` flag if you want to have your array loaded with the rasterio (bands, rows, columns) or the image format (rows, columns, bands) . "
   ]
  },
  {
   "cell_type": "code",
   "execution_count": 18,
   "id": "0da6526b-28fa-4815-95c3-a093a5ca8f4d",
   "metadata": {},
   "outputs": [
    {
     "name": "stdout",
     "output_type": "stream",
     "text": [
      "(55680, 12816, 1)\n",
      "(1, 55680, 12816)\n"
     ]
    }
   ],
   "source": [
    "# image format\n",
    "array = raster.read(r, bands=[1], as_image=True) \n",
    "print(array.shape)\n",
    "\n",
    "# rasterio format \n",
    "array = raster.read(r, bands=[1], as_image=False) \n",
    "print(array.shape)"
   ]
  },
  {
   "cell_type": "markdown",
   "id": "9aeb9f5a-5e5f-41c1-8897-ccb13ce3b25b",
   "metadata": {},
   "source": [
    "If you don't want to load the whole raster, you can specify the bounding box of a portion of the image, and only the data within this portion will be loaded. Let's say you are only interested in the area around the very fresh impact crater in the middle of the original raster, and we have a polygon shapefile that constrain the boundary. "
   ]
  },
  {
   "cell_type": "code",
   "execution_count": 19,
   "id": "76416e03-2ddc-432f-8861-eb9a734e7a57",
   "metadata": {},
   "outputs": [
    {
     "data": {
      "text/plain": [
       "(4500, 4194, 1)"
      ]
     },
     "execution_count": 19,
     "metadata": {},
     "output_type": "execute_result"
    }
   ],
   "source": [
    "poly = shp_dir / \"rectangular_ROI.shp\"\n",
    "gdf_poly = gpd.read_file(poly) # load a rectangular box covering the fresh impact crater in the middle of the image\n",
    "bounds_poly = list(gdf_poly.bounds.values[0])\n",
    "array = raster.read(r, bands=[1], bbox=bounds_poly, as_image=True) \n",
    "array.shape"
   ]
  },
  {
   "cell_type": "markdown",
   "id": "d2c50bec-35fa-4dfb-8065-dc00963b06c9",
   "metadata": {},
   "source": [
    "If you want to save it as a new raster to avoid the use of the large original raster, which may slow down your computer, you can \"clip\" your raster. In order to save the new raster, the metadata (see Metadata section at the bottom of this file) of the new raster need to be created. We can use:"
   ]
  },
  {
   "cell_type": "code",
   "execution_count": 20,
   "id": "ae4065a6-fd38-4f07-a547-19f62dcaa567",
   "metadata": {},
   "outputs": [],
   "source": [
    "original_raster_profile = raster_metadata.get_profile(r)\n",
    "new_raster_profile = original_raster_profile.copy() "
   ]
  },
  {
   "cell_type": "markdown",
   "id": "313c101c-d3c7-41e6-bf2c-aa8e1b65dee6",
   "metadata": {},
   "source": [
    "The width, height and transform metadata need to be updated."
   ]
  },
  {
   "cell_type": "code",
   "execution_count": 21,
   "id": "12ff8804-be16-465c-9e01-07c288a52b52",
   "metadata": {},
   "outputs": [
    {
     "data": {
      "text/plain": [
       "Affine(0.6339945614856195, 0.0, 10559291.7031,\n",
       "       0.0, -0.6339945671695403, -428407.4778)"
      ]
     },
     "execution_count": 21,
     "metadata": {},
     "output_type": "execute_result"
    }
   ],
   "source": [
    "new_raster_profile[\"transform\"]\n",
    "Affine(0.6339945614856195, 0.0, 10559291.7031,0.0, -0.6339945671695403, -428407.4778)"
   ]
  },
  {
   "cell_type": "markdown",
   "id": "14036a7f-6274-4466-a244-f9a195493f9d",
   "metadata": {},
   "source": [
    "See https://en.wikipedia.org/wiki/Affine_transformation for more info about Affine transformation or write `Affine?`. But long story short, you need to specify the following: "
   ]
  },
  {
   "cell_type": "code",
   "execution_count": 22,
   "id": "03c69fca-2137-4141-b709-9cdb57f4d5f8",
   "metadata": {},
   "outputs": [],
   "source": [
    "raster_resolution = raster_metadata.get_resolution(r)[0]\n",
    "# Affine(raster_resolution, 0.0, xmin, -raster_resolution, ymax) # xmin, ymax corresponds to the top left corner of the image\n",
    "new_transform = Affine(raster_resolution, 0.0, bounds_poly[0], 0.0, -raster_resolution, bounds_poly[3])"
   ]
  },
  {
   "cell_type": "markdown",
   "id": "2e2d5a54-2f56-47b6-9ff0-cc27f3b1066b",
   "metadata": {},
   "source": [
    "Let's update the metadata:"
   ]
  },
  {
   "cell_type": "code",
   "execution_count": 23,
   "id": "ea40bcc2-e81b-4b63-bc3f-89768aa3a6cf",
   "metadata": {},
   "outputs": [],
   "source": [
    "new_raster_profile.update({\n",
    "         \"width\": array.shape[1],\n",
    "         \"height\": array.shape[0],\n",
    "         \"transform\": new_transform})"
   ]
  },
  {
   "cell_type": "markdown",
   "id": "8a384099-7037-4fed-9936-e25bd659272a",
   "metadata": {},
   "source": [
    "### Save the new raster"
   ]
  },
  {
   "cell_type": "code",
   "execution_count": 24,
   "id": "91f75545-429b-4f9d-946c-42a7ad5bdf4a",
   "metadata": {},
   "outputs": [],
   "source": [
    "out_raster = raster_dir / (r.stem + \"_bbox_clip1.tif\")\n",
    "raster.save(out_raster, array, new_raster_profile, is_image=True)"
   ]
  },
  {
   "cell_type": "markdown",
   "id": "a42bc9bb-3de6-4305-b305-0291a0cc920a",
   "metadata": {},
   "source": [
    "<center><img src=\"../images/image-20230613165613689.png\" width=\"600\" height=\"600\" /></center>\n",
    "\n",
    "*Figure 2. Clipped raster (displayed in QGIS, no scale is provided.)*\n",
    "\n",
    "NB! Using this workflow, was only for tutorial purpose as it introduces the user to basic functions such as `read` and `save` and the use of metadata-related functions. This pipeline actually introduce some shifts between the original and the new raster because of the coordinate of the top left extent of the polygon shapefile do not fall on the top left edge of a pixel (it can be fixed, but I am not covering that in the tutorial). \n",
    "\n",
    "### Clipping\n",
    "\n",
    "For a correct behavior for the clipping of rasters, please use `clip_from_bbox` or `clip_from_polygon`:"
   ]
  },
  {
   "cell_type": "code",
   "execution_count": 25,
   "id": "6ed06302-0221-4209-82a8-799bd654d56a",
   "metadata": {},
   "outputs": [],
   "source": [
    "out_raster = raster_dir / (r.stem + \"_bbox_clip2.tif\")\n",
    "raster.clip_from_bbox(r, bounds_poly, out_raster)"
   ]
  },
  {
   "cell_type": "markdown",
   "id": "1ff27b21-6733-4ee2-82c4-7c0a5aedf346",
   "metadata": {},
   "source": [
    "With a polygon (if we want a different shape than a rectangular bounding box, for example a circle): "
   ]
  },
  {
   "cell_type": "code",
   "execution_count": 26,
   "id": "5d50caae-64ee-409e-8caa-53540572c18f",
   "metadata": {},
   "outputs": [
    {
     "ename": "AttributeError",
     "evalue": "'function' object has no attribute 'mask'",
     "output_type": "error",
     "traceback": [
      "\u001b[0;31m---------------------------------------------------------------------------\u001b[0m",
      "\u001b[0;31mAttributeError\u001b[0m                            Traceback (most recent call last)",
      "\u001b[0;32m/tmp/ipykernel_313385/3547941690.py\u001b[0m in \u001b[0;36m<module>\u001b[0;34m\u001b[0m\n\u001b[1;32m      1\u001b[0m \u001b[0min_polygon\u001b[0m \u001b[0;34m=\u001b[0m \u001b[0mshp_dir\u001b[0m \u001b[0;34m/\u001b[0m \u001b[0;34m\"crater_ROI.shp\"\u001b[0m\u001b[0;34m\u001b[0m\u001b[0;34m\u001b[0m\u001b[0m\n\u001b[1;32m      2\u001b[0m \u001b[0mout_raster\u001b[0m \u001b[0;34m=\u001b[0m \u001b[0mraster_dir\u001b[0m \u001b[0;34m/\u001b[0m \u001b[0;34m(\u001b[0m\u001b[0mr\u001b[0m\u001b[0;34m.\u001b[0m\u001b[0mstem\u001b[0m \u001b[0;34m+\u001b[0m \u001b[0;34m\"_crater_clip.tif\"\u001b[0m\u001b[0;34m)\u001b[0m\u001b[0;34m\u001b[0m\u001b[0;34m\u001b[0m\u001b[0m\n\u001b[0;32m----> 3\u001b[0;31m \u001b[0mraster\u001b[0m\u001b[0;34m.\u001b[0m\u001b[0mclip_from_polygon\u001b[0m\u001b[0;34m(\u001b[0m\u001b[0mr\u001b[0m\u001b[0;34m,\u001b[0m \u001b[0min_polygon\u001b[0m\u001b[0;34m,\u001b[0m \u001b[0mout_raster\u001b[0m\u001b[0;34m)\u001b[0m\u001b[0;34m\u001b[0m\u001b[0;34m\u001b[0m\u001b[0m\n\u001b[0m",
      "\u001b[0;32m~/GIT/rastertools/raster.py\u001b[0m in \u001b[0;36mclip_from_polygon\u001b[0;34m(in_raster, in_polygon, out_raster)\u001b[0m\n\u001b[1;32m    153\u001b[0m         \u001b[0mshapes\u001b[0m \u001b[0;34m=\u001b[0m \u001b[0;34m[\u001b[0m\u001b[0mrow\u001b[0m\u001b[0;34m[\u001b[0m\u001b[0;34m\"geometry\"\u001b[0m\u001b[0;34m]\u001b[0m \u001b[0;32mfor\u001b[0m \u001b[0mi\u001b[0m\u001b[0;34m,\u001b[0m \u001b[0mrow\u001b[0m \u001b[0;32min\u001b[0m \u001b[0mgdf\u001b[0m\u001b[0;34m.\u001b[0m\u001b[0miterrows\u001b[0m\u001b[0;34m(\u001b[0m\u001b[0;34m)\u001b[0m\u001b[0;34m]\u001b[0m\u001b[0;34m\u001b[0m\u001b[0;34m\u001b[0m\u001b[0m\n\u001b[1;32m    154\u001b[0m         \u001b[0;31m# clipping of raster\u001b[0m\u001b[0;34m\u001b[0m\u001b[0;34m\u001b[0m\u001b[0;34m\u001b[0m\u001b[0m\n\u001b[0;32m--> 155\u001b[0;31m         \u001b[0mout_array\u001b[0m\u001b[0;34m,\u001b[0m \u001b[0mout_transform\u001b[0m \u001b[0;34m=\u001b[0m \u001b[0mmask\u001b[0m\u001b[0;34m.\u001b[0m\u001b[0mmask\u001b[0m\u001b[0;34m(\u001b[0m\u001b[0mrio_dataset\u001b[0m\u001b[0;34m,\u001b[0m \u001b[0mshapes\u001b[0m\u001b[0;34m,\u001b[0m \u001b[0mall_touched\u001b[0m\u001b[0;34m=\u001b[0m\u001b[0;32mFalse\u001b[0m\u001b[0;34m,\u001b[0m \u001b[0mcrop\u001b[0m\u001b[0;34m=\u001b[0m\u001b[0;32mTrue\u001b[0m\u001b[0;34m)\u001b[0m\u001b[0;34m\u001b[0m\u001b[0;34m\u001b[0m\u001b[0m\n\u001b[0m\u001b[1;32m    156\u001b[0m         out_meta.update({\"driver\": \"GTiff\",\n\u001b[1;32m    157\u001b[0m                          \u001b[0;34m\"height\"\u001b[0m\u001b[0;34m:\u001b[0m \u001b[0mout_array\u001b[0m\u001b[0;34m.\u001b[0m\u001b[0mshape\u001b[0m\u001b[0;34m[\u001b[0m\u001b[0;36m1\u001b[0m\u001b[0;34m]\u001b[0m\u001b[0;34m,\u001b[0m\u001b[0;34m\u001b[0m\u001b[0;34m\u001b[0m\u001b[0m\n",
      "\u001b[0;31mAttributeError\u001b[0m: 'function' object has no attribute 'mask'"
     ]
    }
   ],
   "source": [
    "in_polygon = shp_dir / \"crater_ROI.shp\"\n",
    "out_raster = raster_dir / (r.stem + \"_crater_clip.tif\")\n",
    "raster.clip_from_polygon(r, in_polygon, out_raster)"
   ]
  },
  {
   "cell_type": "code",
   "execution_count": null,
   "id": "bb0eddf9-89ac-4352-9fae-9e2360feb252",
   "metadata": {},
   "outputs": [],
   "source": []
  }
 ],
 "metadata": {
  "kernelspec": {
   "display_name": "Python 3 (ipykernel)",
   "language": "python",
   "name": "python3"
  },
  "language_info": {
   "codemirror_mode": {
    "name": "ipython",
    "version": 3
   },
   "file_extension": ".py",
   "mimetype": "text/x-python",
   "name": "python",
   "nbconvert_exporter": "python",
   "pygments_lexer": "ipython3",
   "version": "3.8.0"
  }
 },
 "nbformat": 4,
 "nbformat_minor": 5
}
